{
 "cells": [
  {
   "cell_type": "code",
   "execution_count": 5,
   "metadata": {},
   "outputs": [],
   "source": [
    "import pandas as pd\n",
    "import matplotlib.pyplot as fig"
   ]
  },
  {
   "cell_type": "code",
   "execution_count": 8,
   "metadata": {},
   "outputs": [
    {
     "name": "stdout",
     "output_type": "stream",
     "text": [
      "                 Data  Abertura  Máxima  Mínima  Fechamento   Retorno\n",
      "Data                                                                 \n",
      "2015-01-02 2015-01-02      4.29    4.36    4.11        4.18       NaN\n",
      "2015-01-05 2015-01-05      4.16    4.16    3.92        3.99 -0.045455\n",
      "2015-01-06 2015-01-06      4.02    4.10    3.89        4.07  0.020050\n",
      "2015-01-07 2015-01-07      4.10    4.30    4.10        4.24  0.041769\n",
      "2015-01-08 2015-01-08      4.31    4.43    4.25        4.40  0.037736\n",
      "...               ...       ...     ...     ...         ...       ...\n",
      "2020-12-16 2020-12-16     15.58   16.23   15.46       16.17  0.031908\n",
      "2020-12-17 2020-12-17     16.19   16.33   15.77       15.87 -0.018553\n",
      "2020-12-18 2020-12-18     15.90   16.31   15.83       16.11  0.015123\n",
      "2020-12-21 2020-12-21     15.96   15.98   15.46       15.76 -0.021726\n",
      "2020-12-22 2020-12-22     15.90   16.22   15.41       15.55 -0.013325\n",
      "\n",
      "[1478 rows x 6 columns]\n"
     ]
    }
   ],
   "source": [
    "df = pd.read_excel('rapt4.xlsx', 'Planilha1')\n",
    "\n",
    "df.index = df.Data #Para definir a Coluna data como indice\n",
    "\n",
    "df['Retorno'] = df['Fechamento'].pct_change(1)\n",
    "\n",
    "print(df)\n"
   ]
  },
  {
   "cell_type": "code",
   "execution_count": null,
   "metadata": {},
   "outputs": [],
   "source": []
  }
 ],
 "metadata": {
  "kernelspec": {
   "display_name": "Python 3",
   "language": "python",
   "name": "python3"
  },
  "language_info": {
   "codemirror_mode": {
    "name": "ipython",
    "version": 3
   },
   "file_extension": ".py",
   "mimetype": "text/x-python",
   "name": "python",
   "nbconvert_exporter": "python",
   "pygments_lexer": "ipython3",
   "version": "3.8.5"
  }
 },
 "nbformat": 4,
 "nbformat_minor": 4
}
